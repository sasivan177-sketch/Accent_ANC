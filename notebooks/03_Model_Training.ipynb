{
 "cells": [
  {
   "cell_type": "markdown",
   "id": "e4cc51d1",
   "metadata": {},
   "source": [
    "# 03: Model Training Analysis\n",
    "\n",
    "This notebook is for **analyzing and understanding** the model training process, not for running the main training (which is done by `src/train_model.py`).\n",
    "\n",
    "We will:\n",
    "1.  Load the saved training/evaluation metrics from `reports/metrics.csv`.\n",
    "2.  Plot the key metrics (like loss, MSE, or PESQ) over time.\n",
    "3.  Load the final trained model from `models/encoder_decoder.pth`.\n",
    "4.  Print a summary of the model architecture to inspect its components."
   ]
  },
  {
   "cell_type": "code",
   "execution_count": null,
   "id": "280f2f13",
   "metadata": {},
   "outputs": [],
   "source": [
    "import pandas as pd\n",
    "import matplotlib.pyplot as plt\n",
    "import seaborn as sns\n",
    "from pathlib import Path\n",
    "import torch\n",
    "\n",
    "# Add src to path to import the model definition\n",
    "import sys\n",
    "sys.path.append('../src')\n",
    "\n",
    "try:\n",
    "    # We assume your model architecture is defined in 'src/model.py'\n",
    "    # as 'EncoderDecoder' or a similar name.\n",
    "    from model import EncoderDecoder # <--- Update this if your class name is different\n",
    "except ImportError:\n",
    "    print(\"Could not import model from src/model.py. Please ensure the file and class exist.\")\n",
    "    EncoderDecoder = None # Set to None so cell 3 can be skipped\n",
    "\n",
    "# --- Configuration ---\n",
    "sns.set_style(\"whitegrid\")\n",
    "METRICS_FILE = Path(\"../reports/metrics.csv\")\n",
    "MODEL_FILE = Path(\"../models/encoder_decoder.pth\")\n",
    "REPORTS_PLOTS_DIR = Path(\"../reports/plots\")\n",
    "REPORTS_PLOTS_DIR.mkdir(parents=True, exist_ok=True)\n",
    "\n",
    "DEVICE = torch.device(\"cuda\" if torch.cuda.is_available() else \"cpu\")"
   ]
  },
  {
   "cell_type": "markdown",
   "id": "c4ad7aee",
   "metadata": {},
   "source": [
    "## 1. Visualize Training & Evaluation Metrics\n",
    "\n",
    "First, we load the `metrics.csv` file that was saved by `src/train_model.py` or `src/evaluate.py`. This file should contain the loss and other metrics for each epoch."
   ]
  },
  {
   "cell_type": "code",
   "execution_count": null,
   "id": "e618f18e",
   "metadata": {},
   "outputs": [],
   "source": [
    "if not METRICS_FILE.exists():\n",
    "    print(f\"Metrics file not found at: {METRICS_FILE}\")\n",
    "    print(\"Please run train_model.py or evaluate.py first.\")\n",
    "    metrics_df = pd.DataFrame()\n",
    "else:\n",
    "    metrics_df = pd.read_csv(METRICS_FILE)\n",
    "    print(f\"Loaded metrics from {METRICS_FILE}:\")\n",
    "    display(metrics_df.head())\n",
    "\n",
    "# Melt the DataFrame for easier plotting with seaborn\n",
    "if 'epoch' in metrics_df.columns:\n",
    "    metrics_melted = metrics_df.melt('epoch', var_name='Metric', value_name='Value')\n",
    "else:\n",
    "    metrics_melted = pd.DataFrame()"
   ]
  },
  {
   "cell_type": "code",
   "execution_count": null,
   "id": "abc5d8eb",
   "metadata": {},
   "outputs": [],
   "source": [
    "if not metrics_melted.empty:\n",
    "    # Plot all metrics on one grid\n",
    "    g = sns.FacetGrid(metrics_melted, col=\"Metric\", col_wrap=3, sharey=False)\n",
    "    g.map(sns.lineplot, \"epoch\", \"Value\", marker='o')\n",
    "    g.fig.suptitle(\"Training & Evaluation Metrics Over Epochs\", y=1.03)\n",
    "    g.set_axis_labels(\"Epoch\", \"Metric Value\")\n",
    "    plt.tight_layout()\n",
    "    plt.savefig(REPORTS_PLOTS_DIR / \"03_training_metrics.png\")\n",
    "    plt.show()\n",
    "else:\n",
    "    print(\"No data to plot. 'epoch' column might be missing from metrics.csv.\")"
   ]
  },
  {
   "cell_type": "markdown",
   "id": "1a9580fa",
   "metadata": {},
   "source": [
    "## 2. Load Trained Model & Inspect Architecture\n",
    "\n",
    "Now we load the final saved model weights from `models/encoder_decoder.pth` into our model class defined in `src/model.py`. This confirms the model can be loaded successfully.\n",
    "\n",
    "We will then print the model summary to visualize its layers and parameters."
   ]
  },
  {
   "cell_type": "code",
   "execution_count": null,
   "id": "84727743",
   "metadata": {},
   "outputs": [],
   "source": [
    "if EncoderDecoder is not None and MODEL_FILE.exists():\n",
    "    print(f\"Loading model architecture from 'src/model.py'...\")\n",
    "    # Instantiate the model\n",
    "    # Note: You may need to pass configuration arguments (e.g., n_features, latent_dim)\n",
    "    try:\n",
    "        model = EncoderDecoder().to(DEVICE)\n",
    "    except Exception as e:\n",
    "        print(f\"Error instantiating model: {e}\")\n",
    "        print(\"You may need to update the cell above to pass arguments to your model, e.g., EncoderDecoder(n_features=80, ...)\")\n",
    "        model = None\n",
    "\n",
    "    if model:\n",
    "        print(f\"Loading trained weights from {MODEL_FILE}...\")\n",
    "        try:\n",
    "            # Load the state dictionary\n",
    "            model.load_state_dict(torch.load(MODEL_FILE, map_location=DEVICE))\n",
    "            model.eval() # Set model to evaluation mode\n",
    "            print(\"Model loaded successfully!\")\n",
    "            \n",
    "            # --- Print Model Summary ---\n",
    "            print(\"\\n\" + \"=\"*30)\n",
    "            print(\" MODEL ARCHITECTURE SUMMARY\")\n",
    "            print(\"=\"*30)\n",
    "            print(model)\n",
    "            \n",
    "        except Exception as e:\n",
    "            print(f\"Error loading model weights: {e}\")\n",
    "            print(\"This often happens if the architecture in 'src/model.py' does not match the saved weights.\")\n",
    "\n",
    "else:\n",
    "    if not MODEL_FILE.exists():\n",
    "        print(f\"Model file not found: {MODEL_FILE}\")\n",
    "    if EncoderDecoder is None:\n",
    "        print(\"Model class not imported. Skipping model load.\")"
   ]
  },
  {
   "cell_type": "markdown",
   "id": "d064fec6",
   "metadata": {},
   "source": [
    "## 3. Initial Findings\n",
    "\n",
    "* **Metrics:** The loss curves show the model converged (or diverged). The `[Metric Name]` (e.g., `val_pesq`) reached a peak of `[Value]`, indicating the model's performance on the evaluation set.\n",
    "* **Model:** The `encoder_decoder.pth` file was successfully loaded into the `EncoderDecoder` architecture. The model summary confirms the layers (e.g., Conv layers, RNNs, latent dimension) are as designed in `src/model.py`.\n",
    "\n",
    "The training appears to be complete and the resulting artifact is loadable and ready for evaluation."
   ]
  }
 ],
 "metadata": {
  "kernelspec": {
   "display_name": "Python 3 (ipykernel)",
   "language": "python",
   "name": "python3"
  },
  "language_info": {
   "codemirror_mode": {
    "name": "ipython",
    "version": 3
   },
   "file_extension": ".py",
   "mimetype": "text/x-python",
   "name": "python",
   "nbconvert_exporter": "python",
   "pygments_lexer": "ipython3",
   "version": "3.12.3"
  }
 },
 "nbformat": 4,
 "nbformat_minor": 5
}
